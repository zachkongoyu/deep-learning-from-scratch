{
 "cells": [
  {
   "cell_type": "code",
   "execution_count": 220,
   "metadata": {},
   "outputs": [],
   "source": [
    "import numpy as np\n",
    "\n",
    "class scalar:\n",
    "    \n",
    "    def __init__(self, data, label=None, parents=None, same_level=None):\n",
    "        self.data = data\n",
    "        self.gradient = 1.0\n",
    "        self.label = label\n",
    "        self.parents = parents\n",
    "        self.same_level = None\n",
    "        \n",
    "    def __add__(self, other):\n",
    "        other = other if isinstance(other, scalar) else scalar(other, str(other), None)\n",
    "        other.same_level = self\n",
    "        self.same_level = other\n",
    "        out = scalar(self.data + other.data, f\"{self.label}+{other.label}\", parents=[self, '+', other]) \n",
    "        \n",
    "        return out\n",
    "    \n",
    "    def __mul__(self, other):\n",
    "        other = other if isinstance(other, scalar) else scalar(other, str(other), None)\n",
    "        other.same_level = self\n",
    "        self.same_level = other\n",
    "        out = scalar(self.data*other.data, self.label + other.label, parents=[self, '*', other])        \n",
    "        \n",
    "        return out\n",
    "    \n",
    "    def __pow__(self, other):\n",
    "        other = other if isinstance(other, scalar) else scalar(other, str(other), None)\n",
    "        other.same_level = self\n",
    "        self.same_level = other\n",
    "        out = scalar(self.data**other.data, f\"{self.label}^{other.label}\", parents=[self, '**', other]) \n",
    "        \n",
    "        return out\n",
    "    \n",
    "    def __repr__(self):\n",
    "        return f\"{self.data, self.gradient, self.label, [p.label if type(p) != str else p for p in self.parents] if self.parents != None else self.parents, self.same_level.label if self.same_level != None else self.same_level}\"\n",
    "        \n",
    "    def back_propagate(self):\n",
    "        if self.parents == None:\n",
    "            return \n",
    "        \n",
    "        elif self.parents[1] == '*':\n",
    "            self.parents[0].gradient *= self.gradient * self.parents[2].data\n",
    "            self.parents[2].gradient *= self.gradient * self.parents[0].data\n",
    "            \n",
    "            self.parents[0].back_propagate()\n",
    "            self.parents[2].back_propagate()\n",
    "            \n",
    "        elif self.parents[1] == '**':\n",
    "            self.parents[0].gradient *= self.gradient * self.parents[2].data * self.parents[0].data ** (self.parents[2].data-1)\n",
    "            self.parents[2].gradient *= self.gradient * self.data * np.log(self.parents[0].data)\n",
    "            \n",
    "            self.parents[0].back_propagate()\n",
    "            self.parents[2].back_propagate()\n",
    "        \n",
    "        elif self.parents[1] == '+':\n",
    "            self.parents[0].gradient *= self.gradient\n",
    "            self.parents[2].gradient *= self.gradient\n",
    "            \n",
    "            self.parents[0].back_propagate()\n",
    "            self.parents[2].back_propagate()\n",
    "            \n",
    "    def wash(self):\n",
    "        if self.parents == None:\n",
    "            return\n",
    "        \n",
    "        print(self.get_parameters())\n",
    "        \n",
    "        self.parents[0].gradient = 1.0\n",
    "        self.parents[0].wash()\n",
    "        \n",
    "        self.parents[2].gradient = 1.0\n",
    "        self.parents[2].wash()\n",
    "        \n",
    "    def __neg__(self): \n",
    "        return self * -1\n",
    "\n",
    "    def __radd__(self, other): \n",
    "        return self + other\n",
    "\n",
    "    def __sub__(self, other): \n",
    "        return self + (-other)\n",
    "\n",
    "    def __rsub__(self, other):\n",
    "        return other + (-self)\n",
    "\n",
    "    def __rmul__(self, other):\n",
    "        return self * other\n",
    "\n",
    "    def __truediv__(self, other):\n",
    "        return self * other**-1\n",
    "\n",
    "    def __rtruediv__(self, other):\n",
    "        return other * self**-1\n",
    "            "
   ]
  },
  {
   "cell_type": "code",
   "execution_count": 225,
   "metadata": {},
   "outputs": [],
   "source": [
    "a = scalar(3, 'a')\n",
    "b = scalar(2, 'b')\n",
    "c = scalar(3, 'c')"
   ]
  },
  {
   "cell_type": "code",
   "execution_count": 226,
   "metadata": {},
   "outputs": [],
   "source": [
    "d = a**b"
   ]
  },
  {
   "cell_type": "code",
   "execution_count": 227,
   "metadata": {},
   "outputs": [],
   "source": [
    "d.back_propagate()"
   ]
  },
  {
   "cell_type": "code",
   "execution_count": 229,
   "metadata": {},
   "outputs": [
    {
     "data": {
      "text/plain": [
       "(2, 9.887510598012987, 'b', None, 'a')"
      ]
     },
     "execution_count": 229,
     "metadata": {},
     "output_type": "execute_result"
    }
   ],
   "source": [
    "b"
   ]
  },
  {
   "cell_type": "code",
   "execution_count": 231,
   "metadata": {},
   "outputs": [
    {
     "data": {
      "text/plain": [
       "9.887510598012987"
      ]
     },
     "execution_count": 231,
     "metadata": {},
     "output_type": "execute_result"
    }
   ],
   "source": [
    "9 * np.log(3)"
   ]
  },
  {
   "cell_type": "code",
   "execution_count": null,
   "metadata": {},
   "outputs": [],
   "source": []
  }
 ],
 "metadata": {
  "kernelspec": {
   "display_name": "Python 3",
   "language": "python",
   "name": "python3"
  },
  "language_info": {
   "codemirror_mode": {
    "name": "ipython",
    "version": 3
   },
   "file_extension": ".py",
   "mimetype": "text/x-python",
   "name": "python",
   "nbconvert_exporter": "python",
   "pygments_lexer": "ipython3",
   "version": "3.8.2"
  }
 },
 "nbformat": 4,
 "nbformat_minor": 4
}
